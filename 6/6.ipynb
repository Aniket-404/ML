{
 "cells": [
  {
   "cell_type": "code",
   "execution_count": 5,
   "metadata": {},
   "outputs": [],
   "source": [
    "import numpy as np\n",
    "import random\n"
   ]
  },
  {
   "cell_type": "code",
   "execution_count": 6,
   "metadata": {},
   "outputs": [],
   "source": [
    "# Tic-Tac-Toe Game Environment\n",
    "class TicTacToe:\n",
    "    def __init__(self):\n",
    "        self.board = np.zeros((3, 3), dtype=int)\n",
    "    \n",
    "    def available_actions(self):\n",
    "        return [(i, j) for i in range(3) for j in range(3) if self.board[i, j] == 0]\n",
    "    \n",
    "    def make_move(self, row, col, player):\n",
    "        self.board[row, col] = player\n",
    "    \n",
    "    def check_winner(self, player):\n",
    "        for i in range(3):\n",
    "            if np.all(self.board[i, :] == player) or np.all(self.board[:, i] == player):\n",
    "                return True\n",
    "        if np.all(np.diag(self.board) == player) or np.all(np.diag(np.fliplr(self.board)) == player):\n",
    "            return True\n",
    "        return False\n",
    "    \n",
    "    def is_full(self):\n",
    "        return len(self.available_actions()) == 0\n",
    "    \n",
    "    def reset(self):\n",
    "        self.board = np.zeros((3, 3), dtype=int)"
   ]
  },
  {
   "cell_type": "code",
   "execution_count": 7,
   "metadata": {},
   "outputs": [],
   "source": [
    "# Q-Learning Agent\n",
    "class QLearningAgent:\n",
    "    def __init__(self, alpha=0.1, gamma=0.9, epsilon=0.1):\n",
    "        self.q_table = {}\n",
    "        self.alpha = alpha\n",
    "        self.gamma = gamma\n",
    "        self.epsilon = epsilon\n",
    "    \n",
    "    def get_state(self, board):\n",
    "        return str(board.reshape(9))\n",
    "    \n",
    "    def choose_action(self, state, available_actions):\n",
    "        if random.uniform(0, 1) < self.epsilon:\n",
    "            return random.choice(available_actions)\n",
    "        q_values = [self.q_table.get((state, action), 0) for action in available_actions]\n",
    "        return available_actions[q_values.index(max(q_values))]\n",
    "    \n",
    "    def update_q_value(self, state, action, reward, next_state, next_actions):\n",
    "        old_q = self.q_table.get((state, action), 0)\n",
    "        future_q = max([self.q_table.get((next_state, a), 0) for a in next_actions], default=0)\n",
    "        new_q = old_q + self.alpha * (reward + self.gamma * future_q - old_q)\n",
    "        self.q_table[(state, action)] = new_q\n"
   ]
  },
  {
   "cell_type": "code",
   "execution_count": 8,
   "metadata": {},
   "outputs": [],
   "source": [
    "# Training the Agent\n",
    "def train_agent(episodes=1000):\n",
    "    agent = QLearningAgent()\n",
    "    game = TicTacToe()\n",
    "    for _ in range(episodes):\n",
    "        game.reset()\n",
    "        state = agent.get_state(game.board)\n",
    "        done = False\n",
    "        player = 1\n",
    "        while not done:\n",
    "            available_actions = game.available_actions()\n",
    "            if not available_actions: # If no actions are available (board is full), break\n",
    "                break\n",
    "            action = agent.choose_action(state, available_actions)\n",
    "            game.make_move(action[0], action[1], player)\n",
    "\n",
    "            if game.check_winner(player):\n",
    "                reward = 1 if player == 1 else -1\n",
    "                agent.update_q_value(state, action, reward, None, [])\n",
    "                break\n",
    "            if game.is_full(): # If the board is full, it's a draw\n",
    "                reward = 0\n",
    "                agent.update_q_value(state, action, reward, None, [])\n",
    "                break\n",
    "            next_state = agent.get_state(game.board)\n",
    "            next_available_actions = game.available_actions()\n",
    "            agent.update_q_value(state, action, 0, next_state, next_available_actions)\n",
    "\n",
    "            state = next_state\n",
    "            player = 3 - player # Switch player\n",
    "            \n",
    "    return agent\n"
   ]
  },
  {
   "cell_type": "code",
   "execution_count": 9,
   "metadata": {},
   "outputs": [],
   "source": [
    "# Testing the Agent\n",
    "def test_agent(agent, episodes=100):\n",
    "    game = TicTacToe()\n",
    "    wins = 0\n",
    "\n",
    "    for _ in range(episodes):\n",
    "        game.reset()\n",
    "        state = agent.get_state(game.board)\n",
    "        player = 1\n",
    "\n",
    "        while True:\n",
    "            available_actions = game.available_actions()\n",
    "            if not available_actions: # If no actions are available (board is full), it's a draw\n",
    "                break\n",
    "\n",
    "            action = agent.choose_action(state, available_actions)\n",
    "            game.make_move(action[0], action[1], player)\n",
    "\n",
    "            if game.check_winner(player):\n",
    "                if player == 1:\n",
    "                    wins += 1\n",
    "                break\n",
    "\n",
    "            if game.is_full():\n",
    "                break\n",
    "            state = agent.get_state(game.board)\n",
    "            player = 3 - player # Switch player\n",
    "    print(f\"Wins: {wins}/{episodes}\")\n"
   ]
  },
  {
   "cell_type": "code",
   "execution_count": 17,
   "metadata": {},
   "outputs": [
    {
     "name": "stdout",
     "output_type": "stream",
     "text": [
      "Wins: 88/100\n"
     ]
    }
   ],
   "source": [
    "# Run Training and Testing\n",
    "agent = train_agent(episodes=1000)\n",
    "test_agent(agent, episodes=100)\n"
   ]
  }
 ],
 "metadata": {
  "kernelspec": {
   "display_name": "Python 3",
   "language": "python",
   "name": "python3"
  },
  "language_info": {
   "codemirror_mode": {
    "name": "ipython",
    "version": 3
   },
   "file_extension": ".py",
   "mimetype": "text/x-python",
   "name": "python",
   "nbconvert_exporter": "python",
   "pygments_lexer": "ipython3",
   "version": "3.9.12"
  }
 },
 "nbformat": 4,
 "nbformat_minor": 2
}
